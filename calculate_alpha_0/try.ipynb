{
 "cells": [
  {
   "cell_type": "code",
   "execution_count": 1,
   "metadata": {},
   "outputs": [],
   "source": [
    "import pandas as pd\n",
    "import numpy as np\n",
    "import datetime\n",
    "import requests\n",
    "import json"
   ]
  },
  {
   "cell_type": "code",
   "execution_count": 5,
   "metadata": {},
   "outputs": [
    {
     "ename": "KeyError",
     "evalue": "1",
     "output_type": "error",
     "traceback": [
      "\u001b[1;31m---------------------------------------------------------------------------\u001b[0m",
      "\u001b[1;31mValueError\u001b[0m                                Traceback (most recent call last)",
      "File \u001b[1;32m~\\AppData\\Local\\Packages\\PythonSoftwareFoundation.Python.3.10_qbz5n2kfra8p0\\LocalCache\\local-packages\\Python310\\site-packages\\pandas\\core\\indexes\\range.py:391\u001b[0m, in \u001b[0;36mRangeIndex.get_loc\u001b[1;34m(self, key, method, tolerance)\u001b[0m\n\u001b[0;32m    390\u001b[0m \u001b[39mtry\u001b[39;00m:\n\u001b[1;32m--> 391\u001b[0m     \u001b[39mreturn\u001b[39;00m \u001b[39mself\u001b[39;49m\u001b[39m.\u001b[39;49m_range\u001b[39m.\u001b[39;49mindex(new_key)\n\u001b[0;32m    392\u001b[0m \u001b[39mexcept\u001b[39;00m \u001b[39mValueError\u001b[39;00m \u001b[39mas\u001b[39;00m err:\n",
      "\u001b[1;31mValueError\u001b[0m: 1 is not in range",
      "\nThe above exception was the direct cause of the following exception:\n",
      "\u001b[1;31mKeyError\u001b[0m                                  Traceback (most recent call last)",
      "Cell \u001b[1;32mIn[5], line 15\u001b[0m\n\u001b[0;32m     12\u001b[0m sum_mult_return \u001b[39m=\u001b[39m \u001b[39m0\u001b[39m\n\u001b[0;32m     14\u001b[0m day_counter \u001b[39m=\u001b[39m \u001b[39m0\u001b[39m\n\u001b[1;32m---> 15\u001b[0m \u001b[39mwhile\u001b[39;00m(datetime\u001b[39m.\u001b[39mdate\u001b[39m.\u001b[39mfromisoformat(data_share[\u001b[39m'\u001b[39;49m\u001b[39mTRADEDATE\u001b[39;49m\u001b[39m'\u001b[39;49m][\u001b[39m1\u001b[39;49m]) \u001b[39m<\u001b[39m\u001b[39m=\u001b[39m datetime\u001b[39m.\u001b[39mdate\u001b[39m.\u001b[39mfromisoformat(data_bench[\u001b[39m\"\u001b[39m\u001b[39mTRADEDATE\u001b[39m\u001b[39m\"\u001b[39m][it])):\n\u001b[0;32m     16\u001b[0m     \u001b[39mif\u001b[39;00m data_share[\u001b[39m'\u001b[39m\u001b[39mTRADEDATE\u001b[39m\u001b[39m'\u001b[39m][jt] \u001b[39m==\u001b[39m data_bench[\u001b[39m'\u001b[39m\u001b[39mTRADEDATE\u001b[39m\u001b[39m'\u001b[39m][it]:\n\u001b[0;32m     17\u001b[0m         sum_square_return_bench \u001b[39m+\u001b[39m\u001b[39m=\u001b[39m data_bench[\u001b[39m'\u001b[39m\u001b[39mreturn\u001b[39m\u001b[39m'\u001b[39m][it]\u001b[39m*\u001b[39m\u001b[39m*\u001b[39m\u001b[39m2\u001b[39m\n",
      "File \u001b[1;32m~\\AppData\\Local\\Packages\\PythonSoftwareFoundation.Python.3.10_qbz5n2kfra8p0\\LocalCache\\local-packages\\Python310\\site-packages\\pandas\\core\\series.py:981\u001b[0m, in \u001b[0;36mSeries.__getitem__\u001b[1;34m(self, key)\u001b[0m\n\u001b[0;32m    978\u001b[0m     \u001b[39mreturn\u001b[39;00m \u001b[39mself\u001b[39m\u001b[39m.\u001b[39m_values[key]\n\u001b[0;32m    980\u001b[0m \u001b[39melif\u001b[39;00m key_is_scalar:\n\u001b[1;32m--> 981\u001b[0m     \u001b[39mreturn\u001b[39;00m \u001b[39mself\u001b[39;49m\u001b[39m.\u001b[39;49m_get_value(key)\n\u001b[0;32m    983\u001b[0m \u001b[39mif\u001b[39;00m is_hashable(key):\n\u001b[0;32m    984\u001b[0m     \u001b[39m# Otherwise index.get_value will raise InvalidIndexError\u001b[39;00m\n\u001b[0;32m    985\u001b[0m     \u001b[39mtry\u001b[39;00m:\n\u001b[0;32m    986\u001b[0m         \u001b[39m# For labels that don't resolve as scalars like tuples and frozensets\u001b[39;00m\n",
      "File \u001b[1;32m~\\AppData\\Local\\Packages\\PythonSoftwareFoundation.Python.3.10_qbz5n2kfra8p0\\LocalCache\\local-packages\\Python310\\site-packages\\pandas\\core\\series.py:1089\u001b[0m, in \u001b[0;36mSeries._get_value\u001b[1;34m(self, label, takeable)\u001b[0m\n\u001b[0;32m   1086\u001b[0m     \u001b[39mreturn\u001b[39;00m \u001b[39mself\u001b[39m\u001b[39m.\u001b[39m_values[label]\n\u001b[0;32m   1088\u001b[0m \u001b[39m# Similar to Index.get_value, but we do not fall back to positional\u001b[39;00m\n\u001b[1;32m-> 1089\u001b[0m loc \u001b[39m=\u001b[39m \u001b[39mself\u001b[39;49m\u001b[39m.\u001b[39;49mindex\u001b[39m.\u001b[39;49mget_loc(label)\n\u001b[0;32m   1090\u001b[0m \u001b[39mreturn\u001b[39;00m \u001b[39mself\u001b[39m\u001b[39m.\u001b[39mindex\u001b[39m.\u001b[39m_get_values_for_loc(\u001b[39mself\u001b[39m, loc, label)\n",
      "File \u001b[1;32m~\\AppData\\Local\\Packages\\PythonSoftwareFoundation.Python.3.10_qbz5n2kfra8p0\\LocalCache\\local-packages\\Python310\\site-packages\\pandas\\core\\indexes\\range.py:393\u001b[0m, in \u001b[0;36mRangeIndex.get_loc\u001b[1;34m(self, key, method, tolerance)\u001b[0m\n\u001b[0;32m    391\u001b[0m         \u001b[39mreturn\u001b[39;00m \u001b[39mself\u001b[39m\u001b[39m.\u001b[39m_range\u001b[39m.\u001b[39mindex(new_key)\n\u001b[0;32m    392\u001b[0m     \u001b[39mexcept\u001b[39;00m \u001b[39mValueError\u001b[39;00m \u001b[39mas\u001b[39;00m err:\n\u001b[1;32m--> 393\u001b[0m         \u001b[39mraise\u001b[39;00m \u001b[39mKeyError\u001b[39;00m(key) \u001b[39mfrom\u001b[39;00m \u001b[39merr\u001b[39;00m\n\u001b[0;32m    394\u001b[0m \u001b[39mself\u001b[39m\u001b[39m.\u001b[39m_check_indexing_error(key)\n\u001b[0;32m    395\u001b[0m \u001b[39mraise\u001b[39;00m \u001b[39mKeyError\u001b[39;00m(key)\n",
      "\u001b[1;31mKeyError\u001b[0m: 1"
     ]
    }
   ],
   "source": [
    "data_bench = pd.read_csv(f\"benchmarks/IMOEX.csv\")\n",
    "len_data_bench = len(data_bench['TRADEDATE'])\n",
    "\n",
    "data_share = pd.read_csv(f\"stock_history/IRGZ_history.csv\")\n",
    "len_data_share = len(data_share['TRADEDATE'])\n",
    "\n",
    "it = len_data_bench - 1\n",
    "jt = len_data_share - 1\n",
    "sum_square_return_bench = 0\n",
    "sum_bench_return = 0\n",
    "sum_share_return = 0\n",
    "sum_mult_return = 0\n",
    "\n",
    "day_counter = 0\n",
    "while(datetime.date.fromisoformat(data_share['TRADEDATE'][1]) <= datetime.date.fromisoformat(data_bench[\"TRADEDATE\"][it])):\n",
    "    if data_share['TRADEDATE'][jt] == data_bench['TRADEDATE'][it]:\n",
    "        sum_square_return_bench += data_bench['return'][it]**2\n",
    "        sum_bench_return += data_bench['return'][it]\n",
    "        sum_share_return += data_share['return'][jt]\n",
    "        sum_mult_return += (data_bench['return'][it] * data_share['return'][jt])\n",
    "\n",
    "        day_counter += 1\n",
    "        it -= 1\n",
    "        jt -= 1\n",
    "        \n",
    "    elif data_share['TRADEDATE'][jt] >= data_bench['TRADEDATE'][it]:\n",
    "        jt -= 1\n",
    "    elif data_share['TRADEDATE'][jt] <= data_bench['TRADEDATE'][it]:\n",
    "        it -= 1\n",
    "\n",
    "expected_value_bench_return = sum_bench_return/day_counter\n",
    "sum_square_return_bench /= day_counter\n",
    "variance_Rm = sum_square_return_bench - expected_value_bench_return**2\n",
    "\n",
    "expected_value_share_return = sum_share_return/day_counter\n",
    "expected_value_mult_return = sum_mult_return/day_counter\n",
    "\n",
    "covariance_Ri_Rm = expected_value_mult_return - expected_value_share_return * expected_value_bench_return\n",
    "\n"
   ]
  }
 ],
 "metadata": {
  "kernelspec": {
   "display_name": "Python 3",
   "language": "python",
   "name": "python3"
  },
  "language_info": {
   "codemirror_mode": {
    "name": "ipython",
    "version": 3
   },
   "file_extension": ".py",
   "mimetype": "text/x-python",
   "name": "python",
   "nbconvert_exporter": "python",
   "pygments_lexer": "ipython3",
   "version": "3.10.10"
  },
  "orig_nbformat": 4,
  "vscode": {
   "interpreter": {
    "hash": "25e1e25c927cc0f47f29c766fefcb8afc3868ea8c810365764474c36e884e235"
   }
  }
 },
 "nbformat": 4,
 "nbformat_minor": 2
}
