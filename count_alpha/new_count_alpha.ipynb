{
 "cells": [
  {
   "cell_type": "code",
   "execution_count": 1,
   "metadata": {},
   "outputs": [],
   "source": [
    "import numpy as np\n",
    "import pandas as pd\n",
    "import datetime"
   ]
  },
  {
   "cell_type": "code",
   "execution_count": 2,
   "metadata": {},
   "outputs": [],
   "source": [
    "def find_index(name, m_date):\n",
    "    index = 0\n",
    "    while name['TRADEDATE'][index] < m_date:\n",
    "        index += 1\n",
    "    \n",
    "    return index"
   ]
  },
  {
   "cell_type": "markdown",
   "metadata": {},
   "source": [
    "# groups info about stock, RGBI and IMOEX in convenient way "
   ]
  },
  {
   "cell_type": "code",
   "execution_count": 3,
   "metadata": {},
   "outputs": [],
   "source": [
    "rgbi_info = pd.read_csv(f\"benchmarks/RGBI.csv\")\n",
    "imoex_info = pd.read_csv(f\"benchmarks/IMOEX.csv\")\n",
    "share_indexes = pd.read_csv('additional_info/share_indexes.csv')\n",
    "\n",
    "for curr_ticker in share_indexes['TICKERS']:\n",
    "    whole_share_info = pd.read_csv(f\"stock_history/{curr_ticker}_history.csv\")\n",
    "\n",
    "    rgbi_index = 0\n",
    "    imoex_index = 0\n",
    "    share_index = 0\n",
    "\n",
    "    if (rgbi_info['TRADEDATE'][0]) > (whole_share_info['TRADEDATE'][0]):\n",
    "        min_date = rgbi_info['TRADEDATE'][0]\n",
    "        share_index = find_index(whole_share_info, min_date)\n",
    "    else:\n",
    "        min_date = whole_share_info['TRADEDATE'][0]\n",
    "        rgbi_index = find_index(rgbi_info, min_date)\n",
    "    imoex_index = find_index(imoex_info, min_date)\n",
    "\n",
    "    arr_trade_date = [rgbi_info['TRADEDATE'][rgbi_index]]\n",
    "    arr_stock_close = [whole_share_info['CLOSE'][share_index]]\n",
    "    arr_rgbi_close = [rgbi_info['CLOSE'][rgbi_index]]\n",
    "    arr_imoex_close = [imoex_info['CLOSE'][imoex_index]]\n",
    "    rgbi_index += 1\n",
    "    imoex_index += 1\n",
    "    share_index += 1\n",
    "\n",
    "    while imoex_index < len(imoex_info['TRADEDATE']):\n",
    "\n",
    "        # groups share and indexes data by day\n",
    "        if (rgbi_info['TRADEDATE'][rgbi_index] < whole_share_info['TRADEDATE'][share_index]) or (rgbi_info['TRADEDATE'][rgbi_index] < imoex_info['TRADEDATE'][imoex_index]):\n",
    "            rgbi_index += 1\n",
    "        elif (whole_share_info['TRADEDATE'][share_index] < rgbi_info['TRADEDATE'][rgbi_index]) or (whole_share_info['TRADEDATE'][share_index] < imoex_info['TRADEDATE'][imoex_index]):\n",
    "            share_index += 1\n",
    "        elif (imoex_info['TRADEDATE'][imoex_index] < rgbi_info['TRADEDATE'][rgbi_index]) or (imoex_info['TRADEDATE'][imoex_index] < whole_share_info['TRADEDATE'][share_index]):\n",
    "            imoex_index += 1\n",
    "        else:\n",
    "            if str(whole_share_info['CLOSE'][share_index]) == 'nan': # skips day, where there is no data for share\n",
    "                share_index += 1\n",
    "                continue\n",
    "            arr_trade_date.append(rgbi_info['TRADEDATE'][rgbi_index])\n",
    "            arr_stock_close.append(whole_share_info['CLOSE'][share_index])\n",
    "            arr_rgbi_close.append(rgbi_info['CLOSE'][rgbi_index])\n",
    "            arr_imoex_close.append(imoex_info['CLOSE'][imoex_index])\n",
    "\n",
    "            rgbi_index += 1\n",
    "            imoex_index += 1\n",
    "            share_index += 1\n",
    "\n",
    "    share_info = pd.DataFrame(data={'TRADEDATE' : arr_trade_date, 'STOCK' : arr_stock_close, 'RGBI' : arr_rgbi_close, 'IMOEX' : arr_imoex_close})\n",
    "    share_info.to_csv(f\"adjusted_share_history/{curr_ticker}.csv\", index=False)\n",
    "    \n"
   ]
  },
  {
   "attachments": {},
   "cell_type": "markdown",
   "metadata": {},
   "source": [
    "# counts returns, beta and alpha"
   ]
  },
  {
   "cell_type": "code",
   "execution_count": 4,
   "metadata": {},
   "outputs": [],
   "source": [
    "for curr_ticker in share_indexes['TICKERS']:\n",
    "    share_info = pd.read_csv(f\"adjusted_share_history/{curr_ticker}.csv\")\n",
    "    if len(share_info['TRADEDATE']) < 250:\n",
    "        print(f\"{curr_ticker} is less than 250 days\")\n",
    "        continue\n",
    "\n",
    "    share_return = [0]\n",
    "    rgbi_return = [0]\n",
    "    imoex_return = [0]\n",
    "    subtract_Rm_Rf = [0]\n",
    "    subtract_Rp_Rf = [0]\n",
    "\n",
    "    sum_square_return_bench = [0 for i in range(251)] # сумма квадратов доходностей бенчмарка всех дней (для вычисления вариации)\n",
    "    expected_value_Rm_Rf = [0 for i in range(251)] # сумма доходностей бенчмарка, чтобы вычислить среднюю доходность за день (для вычисления вариации и ковариации)\n",
    "    expected_value_Rp_Rf= [0 for i in range(251)] # сумма доходностей акции, чтобы вычислить среднюю доходность за день (для вычисления ковариации)\n",
    "    expected_value_mult_return = [0 for i in range(251)] # сумма произведений доходностей бенчмарка и акции всех дней (для вычисления ковариации)\n",
    "    beta = [0 for i in range(251)]\n",
    "    alpha = [0 for i in range(251)]\n",
    "\n",
    "    for it in range(1, len(share_info['TRADEDATE'])):\n",
    "\n",
    "        share_return.append(share_info['STOCK'][it]/share_info['STOCK'][it-1] - 1)\n",
    "        rgbi_return.append(share_info['RGBI'][it]/share_info['RGBI'][it-1] - 1)\n",
    "        imoex_return.append(share_info['IMOEX'][it]/share_info['IMOEX'][it-1] - 1)\n",
    "        subtract_Rm_Rf.append(share_return[it] - imoex_return[it])\n",
    "        subtract_Rp_Rf.append(share_return[it] - rgbi_return[it])\n",
    "\n",
    "        if it > 250:\n",
    "            sum_square_return_bench.append(sum(np.array(subtract_Rm_Rf[it-250:it]) * np.array(subtract_Rm_Rf[it-250:it])))\n",
    "            expected_value_Rm_Rf.append(sum(np.array(subtract_Rm_Rf[it-250:it]))/250)\n",
    "            expected_value_Rp_Rf.append(sum(np.array(subtract_Rp_Rf[it-250:it]))/250)\n",
    "            expected_value_mult_return.append(sum(subtract_Rm_Rf[i]*subtract_Rp_Rf[i] for i in range(it-250, it)))\n",
    "\n",
    "            variance_Rm = sum_square_return_bench[it] - expected_value_Rm_Rf[it]**2 # вариация\n",
    "            covariance_Ri_Rm = expected_value_mult_return[it] - expected_value_Rp_Rf[it] * expected_value_Rm_Rf[it]\n",
    "\n",
    "            beta.append(covariance_Ri_Rm/variance_Rm)\n",
    "            alpha.append(expected_value_Rp_Rf[it] - beta[it] * expected_value_Rm_Rf[it])\n",
    "\n",
    "\n",
    "    share_info['BETA'] = beta\n",
    "    share_info['ALPHA'] = alpha\n",
    "\n",
    "    share_info.to_csv(f\"adjusted_share_history/{curr_ticker}.csv\")"
   ]
  },
  {
   "cell_type": "code",
   "execution_count": 5,
   "metadata": {},
   "outputs": [],
   "source": [
    "for curr_ticker in share_indexes['TICKERS']:\n",
    "    share_info = pd.read_csv(f\"adjusted_share_history/{curr_ticker}.csv\")\n",
    "    if len(share_info['TRADEDATE']) < 250:\n",
    "        print(f\"{curr_ticker} is less than 250 days\")\n",
    "        continue\n",
    "\n",
    "    share_return = [0]\n",
    "    rgbi_return = [0]\n",
    "    imoex_return = [0]\n",
    "    subtract_Rm_Rf = [0]\n",
    "    subtract_Rp_Rf = [0]\n",
    "\n",
    "    sum_square_return_bench = [0 for i in range(251)] # сумма квадратов доходностей бенчмарка всех дней (для вычисления вариации)\n",
    "    expected_value_Rm = [0 for i in range(251)] # сумма доходностей бенчмарка, чтобы вычислить среднюю доходность за день (для вычисления вариации и ковариации)\n",
    "    expected_value_Rp = [0 for i in range(251)] # сумма доходностей акции, чтобы вычислить среднюю доходность за день (для вычисления ковариации)\n",
    "    expected_value_mult_return = [0 for i in range(251)] # сумма произведений доходностей бенчмарка и акции всех дней (для вычисления ковариации)\n",
    "    beta = [0 for i in range(251)]\n",
    "    alpha = [0 for i in range(251)]\n",
    "\n",
    "    for it in range(1, len(share_info['TRADEDATE'])):\n",
    "\n",
    "        share_return.append(share_info['STOCK'][it]/share_info['STOCK'][it-1] - 1)\n",
    "        rgbi_return.append(share_info['RGBI'][it]/share_info['RGBI'][it-1] - 1)\n",
    "        imoex_return.append(share_info['IMOEX'][it]/share_info['IMOEX'][it-1] - 1)\n",
    "        subtract_Rm_Rf.append(share_return[it] - imoex_return[it])\n",
    "        subtract_Rp_Rf.append(share_return[it] - rgbi_return[it])\n",
    "\n",
    "        if it > 250:\n",
    "            sum_square_return_bench.append(sum(np.array(subtract_Rm_Rf[it-250:it]) * np.array(subtract_Rm_Rf[it-250:it])))\n",
    "            expected_value_Rm.append(sum(np.array(subtract_Rm_Rf[it-250:it]))/250)\n",
    "            expected_value_Rp.append(sum(np.array(subtract_Rp_Rf[it-250:it]))/250)\n",
    "            expected_value_mult_return.append(sum(subtract_Rm_Rf[i]*subtract_Rp_Rf[i] for i in range(it-250, it)))\n",
    "\n",
    "            variance_Rm = sum_square_return_bench[it] - expected_value_Rm[it]**2 # вариация\n",
    "            covariance_Ri_Rm = expected_value_mult_return[it] - expected_value_Rp[it] * expected_value_Rm[it]\n",
    "\n",
    "            beta.append(covariance_Ri_Rm/variance_Rm)\n",
    "            alpha.append(expected_value_Rp[it] - beta[it] * expected_value_Rm[it])\n",
    "\n",
    "\n",
    "    share_info['BETA'] = beta\n",
    "    share_info['ALPHA'] = alpha\n",
    "\n",
    "    share_info.to_csv(f\"adjusted_share_history/{curr_ticker}.csv\")"
   ]
  },
  {
   "cell_type": "code",
   "execution_count": 6,
   "metadata": {},
   "outputs": [],
   "source": [
    "last_beta = []\n",
    "last_alpha = []\n",
    "share_indexes = pd.read_csv('additional_info/share_indexes.csv')\n",
    "\n",
    "for curr_ticker in share_indexes['TICKERS']:\n",
    "    share_info = pd.read_csv(f\"adjusted_share_history/{curr_ticker}.csv\")\n",
    "    last_beta.append(share_info['BETA'][len(share_info['BETA']) - 1])\n",
    "    last_alpha.append(share_info['ALPHA'][len(share_info['ALPHA']) - 1])\n",
    "\n",
    "share_indexes['BETA'] = last_beta\n",
    "share_indexes['ALPHA'] = last_alpha\n",
    "\n",
    "share_indexes.to_csv('additional_info/share_indexes.csv', index=False)"
   ]
  },
  {
   "cell_type": "code",
   "execution_count": 7,
   "metadata": {},
   "outputs": [
    {
     "data": {
      "text/plain": [
       "<matplotlib.collections.PathCollection at 0x227fe58e710>"
      ]
     },
     "execution_count": 7,
     "metadata": {},
     "output_type": "execute_result"
    },
    {
     "data": {
      "image/png": "[encoded data removed]",
      "text/plain": [
       "<Figure size 640x480 with 1 Axes>"
      ]
     },
     "metadata": {},
     "output_type": "display_data"
    }
   ],
   "source": [
    "import matplotlib.pyplot as plt\n",
    "\n",
    "plt.scatter(last_beta, last_alpha)"
   ]
  }
 ],
 "metadata": {
  "kernelspec": {
   "display_name": "Python 3",
   "language": "python",
   "name": "python3"
  },
  "language_info": {
   "codemirror_mode": {
    "name": "ipython",
    "version": 3
   },
   "file_extension": ".py",
   "mimetype": "text/x-python",
   "name": "python",
   "nbconvert_exporter": "python",
   "pygments_lexer": "ipython3",
   "version": "3.10.10"
  },
  "orig_nbformat": 4
 },
 "nbformat": 4,
 "nbformat_minor": 2
}
